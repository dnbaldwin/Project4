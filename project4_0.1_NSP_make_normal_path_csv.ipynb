{
 "cells": [
  {
   "cell_type": "code",
   "execution_count": 1,
   "metadata": {},
   "outputs": [],
   "source": [
    "# Import the modules\n",
    "import numpy as np\n",
    "import pandas as pd\n",
    "from pathlib import Path\n",
    "from sklearn.metrics import confusion_matrix, classification_report, accuracy_score\n",
    "from sklearn.model_selection import train_test_split\n",
    "from sklearn.preprocessing import StandardScaler\n",
    "from sklearn.ensemble import RandomForestClassifier\n",
    "%matplotlib inline"
   ]
  },
  {
   "attachments": {},
   "cell_type": "markdown",
   "metadata": {},
   "source": [
    "---"
   ]
  },
  {
   "cell_type": "code",
   "execution_count": 2,
   "metadata": {},
   "outputs": [
    {
     "data": {
      "text/html": [
       "<div>\n",
       "<style scoped>\n",
       "    .dataframe tbody tr th:only-of-type {\n",
       "        vertical-align: middle;\n",
       "    }\n",
       "\n",
       "    .dataframe tbody tr th {\n",
       "        vertical-align: top;\n",
       "    }\n",
       "\n",
       "    .dataframe thead th {\n",
       "        text-align: right;\n",
       "    }\n",
       "</style>\n",
       "<table border=\"1\" class=\"dataframe\">\n",
       "  <thead>\n",
       "    <tr style=\"text-align: right;\">\n",
       "      <th></th>\n",
       "      <th>LB</th>\n",
       "      <th>AC</th>\n",
       "      <th>FM</th>\n",
       "      <th>UC</th>\n",
       "      <th>DL</th>\n",
       "      <th>DS</th>\n",
       "      <th>DP</th>\n",
       "      <th>ASTV</th>\n",
       "      <th>MSTV</th>\n",
       "      <th>ALTV</th>\n",
       "      <th>MLTV</th>\n",
       "      <th>NSP</th>\n",
       "    </tr>\n",
       "  </thead>\n",
       "  <tbody>\n",
       "    <tr>\n",
       "      <th>0</th>\n",
       "      <td>148</td>\n",
       "      <td>0</td>\n",
       "      <td>0</td>\n",
       "      <td>1</td>\n",
       "      <td>0</td>\n",
       "      <td>0</td>\n",
       "      <td>0</td>\n",
       "      <td>38</td>\n",
       "      <td>0.9</td>\n",
       "      <td>17</td>\n",
       "      <td>12.2</td>\n",
       "      <td>2</td>\n",
       "    </tr>\n",
       "    <tr>\n",
       "      <th>1</th>\n",
       "      <td>148</td>\n",
       "      <td>2</td>\n",
       "      <td>0</td>\n",
       "      <td>8</td>\n",
       "      <td>0</td>\n",
       "      <td>0</td>\n",
       "      <td>0</td>\n",
       "      <td>42</td>\n",
       "      <td>0.7</td>\n",
       "      <td>12</td>\n",
       "      <td>7.1</td>\n",
       "      <td>1</td>\n",
       "    </tr>\n",
       "    <tr>\n",
       "      <th>2</th>\n",
       "      <td>148</td>\n",
       "      <td>2</td>\n",
       "      <td>0</td>\n",
       "      <td>3</td>\n",
       "      <td>0</td>\n",
       "      <td>0</td>\n",
       "      <td>0</td>\n",
       "      <td>37</td>\n",
       "      <td>0.8</td>\n",
       "      <td>0</td>\n",
       "      <td>7.1</td>\n",
       "      <td>1</td>\n",
       "    </tr>\n",
       "    <tr>\n",
       "      <th>3</th>\n",
       "      <td>148</td>\n",
       "      <td>0</td>\n",
       "      <td>0</td>\n",
       "      <td>10</td>\n",
       "      <td>0</td>\n",
       "      <td>0</td>\n",
       "      <td>0</td>\n",
       "      <td>44</td>\n",
       "      <td>0.6</td>\n",
       "      <td>16</td>\n",
       "      <td>7.3</td>\n",
       "      <td>2</td>\n",
       "    </tr>\n",
       "    <tr>\n",
       "      <th>4</th>\n",
       "      <td>148</td>\n",
       "      <td>0</td>\n",
       "      <td>0</td>\n",
       "      <td>9</td>\n",
       "      <td>0</td>\n",
       "      <td>0</td>\n",
       "      <td>0</td>\n",
       "      <td>44</td>\n",
       "      <td>0.6</td>\n",
       "      <td>19</td>\n",
       "      <td>6.9</td>\n",
       "      <td>2</td>\n",
       "    </tr>\n",
       "  </tbody>\n",
       "</table>\n",
       "</div>"
      ],
      "text/plain": [
       "    LB  AC  FM  UC  DL  DS  DP  ASTV  MSTV  ALTV  MLTV  NSP\n",
       "0  148   0   0   1   0   0   0    38   0.9    17  12.2    2\n",
       "1  148   2   0   8   0   0   0    42   0.7    12   7.1    1\n",
       "2  148   2   0   3   0   0   0    37   0.8     0   7.1    1\n",
       "3  148   0   0  10   0   0   0    44   0.6    16   7.3    2\n",
       "4  148   0   0   9   0   0   0    44   0.6    19   6.9    2"
      ]
     },
     "execution_count": 2,
     "metadata": {},
     "output_type": "execute_result"
    }
   ],
   "source": [
    "# Read the CSV file from the Resources folder into a Pandas DataFrame\n",
    "#file_path = Path(\"CTG3.csv\")\n",
    "file_path = Path(\"data_preprocessed.csv\")\n",
    "file_path = Path(\"data_real_world.csv\")\n",
    "\n",
    "df = pd.read_csv(file_path)\n",
    "\n",
    "# Review the DataFrame\n",
    "df.head()"
   ]
  },
  {
   "cell_type": "code",
   "execution_count": 3,
   "metadata": {},
   "outputs": [
    {
     "name": "stdout",
     "output_type": "stream",
     "text": [
      "<class 'pandas.core.frame.DataFrame'>\n",
      "Int64Index: 21 entries, 1 to 29\n",
      "Data columns (total 12 columns):\n",
      " #   Column  Non-Null Count  Dtype  \n",
      "---  ------  --------------  -----  \n",
      " 0   LB      21 non-null     int64  \n",
      " 1   AC      21 non-null     int64  \n",
      " 2   FM      21 non-null     int64  \n",
      " 3   UC      21 non-null     int64  \n",
      " 4   DL      21 non-null     int64  \n",
      " 5   DS      21 non-null     int64  \n",
      " 6   DP      21 non-null     int64  \n",
      " 7   ASTV    21 non-null     int64  \n",
      " 8   MSTV    21 non-null     float64\n",
      " 9   ALTV    21 non-null     int64  \n",
      " 10  MLTV    21 non-null     float64\n",
      " 11  NSP     21 non-null     int64  \n",
      "dtypes: float64(2), int64(10)\n",
      "memory usage: 2.1 KB\n"
     ]
    }
   ],
   "source": [
    "df1 = df.loc[df[\"NSP\"] == 1]\n",
    "df1.info()"
   ]
  },
  {
   "cell_type": "code",
   "execution_count": 4,
   "metadata": {},
   "outputs": [
    {
     "name": "stdout",
     "output_type": "stream",
     "text": [
      "<class 'pandas.core.frame.DataFrame'>\n",
      "Int64Index: 6 entries, 0 to 20\n",
      "Data columns (total 12 columns):\n",
      " #   Column  Non-Null Count  Dtype  \n",
      "---  ------  --------------  -----  \n",
      " 0   LB      6 non-null      int64  \n",
      " 1   AC      6 non-null      int64  \n",
      " 2   FM      6 non-null      int64  \n",
      " 3   UC      6 non-null      int64  \n",
      " 4   DL      6 non-null      int64  \n",
      " 5   DS      6 non-null      int64  \n",
      " 6   DP      6 non-null      int64  \n",
      " 7   ASTV    6 non-null      int64  \n",
      " 8   MSTV    6 non-null      float64\n",
      " 9   ALTV    6 non-null      int64  \n",
      " 10  MLTV    6 non-null      float64\n",
      " 11  NSP     6 non-null      int64  \n",
      "dtypes: float64(2), int64(10)\n",
      "memory usage: 624.0 bytes\n"
     ]
    }
   ],
   "source": [
    "df2 = df.loc[df[\"NSP\"] == 2]\n",
    "df2.info()"
   ]
  },
  {
   "cell_type": "code",
   "execution_count": 5,
   "metadata": {},
   "outputs": [
    {
     "name": "stdout",
     "output_type": "stream",
     "text": [
      "<class 'pandas.core.frame.DataFrame'>\n",
      "Int64Index: 3 entries, 19 to 22\n",
      "Data columns (total 12 columns):\n",
      " #   Column  Non-Null Count  Dtype  \n",
      "---  ------  --------------  -----  \n",
      " 0   LB      3 non-null      int64  \n",
      " 1   AC      3 non-null      int64  \n",
      " 2   FM      3 non-null      int64  \n",
      " 3   UC      3 non-null      int64  \n",
      " 4   DL      3 non-null      int64  \n",
      " 5   DS      3 non-null      int64  \n",
      " 6   DP      3 non-null      int64  \n",
      " 7   ASTV    3 non-null      int64  \n",
      " 8   MSTV    3 non-null      float64\n",
      " 9   ALTV    3 non-null      int64  \n",
      " 10  MLTV    3 non-null      float64\n",
      " 11  NSP     3 non-null      int64  \n",
      "dtypes: float64(2), int64(10)\n",
      "memory usage: 312.0 bytes\n"
     ]
    }
   ],
   "source": [
    "df3 = df.loc[df[\"NSP\"] == 3]\n",
    "df3.info()"
   ]
  },
  {
   "cell_type": "code",
   "execution_count": 6,
   "metadata": {},
   "outputs": [
    {
     "data": {
      "text/html": [
       "<div>\n",
       "<style scoped>\n",
       "    .dataframe tbody tr th:only-of-type {\n",
       "        vertical-align: middle;\n",
       "    }\n",
       "\n",
       "    .dataframe tbody tr th {\n",
       "        vertical-align: top;\n",
       "    }\n",
       "\n",
       "    .dataframe thead th {\n",
       "        text-align: right;\n",
       "    }\n",
       "</style>\n",
       "<table border=\"1\" class=\"dataframe\">\n",
       "  <thead>\n",
       "    <tr style=\"text-align: right;\">\n",
       "      <th></th>\n",
       "      <th>LB</th>\n",
       "      <th>AC</th>\n",
       "      <th>FM</th>\n",
       "      <th>UC</th>\n",
       "      <th>DL</th>\n",
       "      <th>DS</th>\n",
       "      <th>DP</th>\n",
       "      <th>ASTV</th>\n",
       "      <th>MSTV</th>\n",
       "      <th>ALTV</th>\n",
       "      <th>MLTV</th>\n",
       "      <th>NSP</th>\n",
       "    </tr>\n",
       "  </thead>\n",
       "  <tbody>\n",
       "    <tr>\n",
       "      <th>0</th>\n",
       "      <td>148</td>\n",
       "      <td>0</td>\n",
       "      <td>0</td>\n",
       "      <td>1</td>\n",
       "      <td>0</td>\n",
       "      <td>0</td>\n",
       "      <td>0</td>\n",
       "      <td>38</td>\n",
       "      <td>0.9</td>\n",
       "      <td>17</td>\n",
       "      <td>12.2</td>\n",
       "      <td>1</td>\n",
       "    </tr>\n",
       "    <tr>\n",
       "      <th>1</th>\n",
       "      <td>148</td>\n",
       "      <td>2</td>\n",
       "      <td>0</td>\n",
       "      <td>8</td>\n",
       "      <td>0</td>\n",
       "      <td>0</td>\n",
       "      <td>0</td>\n",
       "      <td>42</td>\n",
       "      <td>0.7</td>\n",
       "      <td>12</td>\n",
       "      <td>7.1</td>\n",
       "      <td>0</td>\n",
       "    </tr>\n",
       "    <tr>\n",
       "      <th>2</th>\n",
       "      <td>148</td>\n",
       "      <td>2</td>\n",
       "      <td>0</td>\n",
       "      <td>3</td>\n",
       "      <td>0</td>\n",
       "      <td>0</td>\n",
       "      <td>0</td>\n",
       "      <td>37</td>\n",
       "      <td>0.8</td>\n",
       "      <td>0</td>\n",
       "      <td>7.1</td>\n",
       "      <td>0</td>\n",
       "    </tr>\n",
       "    <tr>\n",
       "      <th>3</th>\n",
       "      <td>148</td>\n",
       "      <td>0</td>\n",
       "      <td>0</td>\n",
       "      <td>10</td>\n",
       "      <td>0</td>\n",
       "      <td>0</td>\n",
       "      <td>0</td>\n",
       "      <td>44</td>\n",
       "      <td>0.6</td>\n",
       "      <td>16</td>\n",
       "      <td>7.3</td>\n",
       "      <td>1</td>\n",
       "    </tr>\n",
       "    <tr>\n",
       "      <th>4</th>\n",
       "      <td>148</td>\n",
       "      <td>0</td>\n",
       "      <td>0</td>\n",
       "      <td>9</td>\n",
       "      <td>0</td>\n",
       "      <td>0</td>\n",
       "      <td>0</td>\n",
       "      <td>44</td>\n",
       "      <td>0.6</td>\n",
       "      <td>19</td>\n",
       "      <td>6.9</td>\n",
       "      <td>1</td>\n",
       "    </tr>\n",
       "  </tbody>\n",
       "</table>\n",
       "</div>"
      ],
      "text/plain": [
       "    LB  AC  FM  UC  DL  DS  DP  ASTV  MSTV  ALTV  MLTV  NSP\n",
       "0  148   0   0   1   0   0   0    38   0.9    17  12.2    1\n",
       "1  148   2   0   8   0   0   0    42   0.7    12   7.1    0\n",
       "2  148   2   0   3   0   0   0    37   0.8     0   7.1    0\n",
       "3  148   0   0  10   0   0   0    44   0.6    16   7.3    1\n",
       "4  148   0   0   9   0   0   0    44   0.6    19   6.9    1"
      ]
     },
     "execution_count": 6,
     "metadata": {},
     "output_type": "execute_result"
    }
   ],
   "source": [
    "def susp_to_path(NSP):\n",
    "    if NSP == 3 or NSP == 2:\n",
    "        return 1\n",
    "    else:\n",
    "        return 0\n",
    "\n",
    "df[\"NSP\"] = df[\"NSP\"].apply(susp_to_path)\n",
    "\n",
    "df.head()"
   ]
  },
  {
   "cell_type": "code",
   "execution_count": 7,
   "metadata": {},
   "outputs": [
    {
     "name": "stdout",
     "output_type": "stream",
     "text": [
      "<class 'pandas.core.frame.DataFrame'>\n",
      "Int64Index: 21 entries, 1 to 29\n",
      "Data columns (total 12 columns):\n",
      " #   Column  Non-Null Count  Dtype  \n",
      "---  ------  --------------  -----  \n",
      " 0   LB      21 non-null     int64  \n",
      " 1   AC      21 non-null     int64  \n",
      " 2   FM      21 non-null     int64  \n",
      " 3   UC      21 non-null     int64  \n",
      " 4   DL      21 non-null     int64  \n",
      " 5   DS      21 non-null     int64  \n",
      " 6   DP      21 non-null     int64  \n",
      " 7   ASTV    21 non-null     int64  \n",
      " 8   MSTV    21 non-null     float64\n",
      " 9   ALTV    21 non-null     int64  \n",
      " 10  MLTV    21 non-null     float64\n",
      " 11  NSP     21 non-null     int64  \n",
      "dtypes: float64(2), int64(10)\n",
      "memory usage: 2.1 KB\n"
     ]
    }
   ],
   "source": [
    "df0 = df.loc[df[\"NSP\"] == 0]\n",
    "df0.info()"
   ]
  },
  {
   "cell_type": "code",
   "execution_count": 8,
   "metadata": {},
   "outputs": [
    {
     "name": "stdout",
     "output_type": "stream",
     "text": [
      "<class 'pandas.core.frame.DataFrame'>\n",
      "Int64Index: 9 entries, 0 to 22\n",
      "Data columns (total 12 columns):\n",
      " #   Column  Non-Null Count  Dtype  \n",
      "---  ------  --------------  -----  \n",
      " 0   LB      9 non-null      int64  \n",
      " 1   AC      9 non-null      int64  \n",
      " 2   FM      9 non-null      int64  \n",
      " 3   UC      9 non-null      int64  \n",
      " 4   DL      9 non-null      int64  \n",
      " 5   DS      9 non-null      int64  \n",
      " 6   DP      9 non-null      int64  \n",
      " 7   ASTV    9 non-null      int64  \n",
      " 8   MSTV    9 non-null      float64\n",
      " 9   ALTV    9 non-null      int64  \n",
      " 10  MLTV    9 non-null      float64\n",
      " 11  NSP     9 non-null      int64  \n",
      "dtypes: float64(2), int64(10)\n",
      "memory usage: 936.0 bytes\n"
     ]
    }
   ],
   "source": [
    "df1 = df.loc[df[\"NSP\"] == 1]\n",
    "df1.info()"
   ]
  },
  {
   "cell_type": "code",
   "execution_count": 9,
   "metadata": {},
   "outputs": [
    {
     "name": "stdout",
     "output_type": "stream",
     "text": [
      "<class 'pandas.core.frame.DataFrame'>\n",
      "Int64Index: 0 entries\n",
      "Data columns (total 12 columns):\n",
      " #   Column  Non-Null Count  Dtype  \n",
      "---  ------  --------------  -----  \n",
      " 0   LB      0 non-null      int64  \n",
      " 1   AC      0 non-null      int64  \n",
      " 2   FM      0 non-null      int64  \n",
      " 3   UC      0 non-null      int64  \n",
      " 4   DL      0 non-null      int64  \n",
      " 5   DS      0 non-null      int64  \n",
      " 6   DP      0 non-null      int64  \n",
      " 7   ASTV    0 non-null      int64  \n",
      " 8   MSTV    0 non-null      float64\n",
      " 9   ALTV    0 non-null      int64  \n",
      " 10  MLTV    0 non-null      float64\n",
      " 11  NSP     0 non-null      int64  \n",
      "dtypes: float64(2), int64(10)\n",
      "memory usage: 0.0 bytes\n"
     ]
    }
   ],
   "source": [
    "df2 = df.loc[df[\"NSP\"] == 2]\n",
    "df2.info()"
   ]
  },
  {
   "cell_type": "code",
   "execution_count": 10,
   "metadata": {},
   "outputs": [
    {
     "name": "stdout",
     "output_type": "stream",
     "text": [
      "<class 'pandas.core.frame.DataFrame'>\n",
      "Int64Index: 0 entries\n",
      "Data columns (total 12 columns):\n",
      " #   Column  Non-Null Count  Dtype  \n",
      "---  ------  --------------  -----  \n",
      " 0   LB      0 non-null      int64  \n",
      " 1   AC      0 non-null      int64  \n",
      " 2   FM      0 non-null      int64  \n",
      " 3   UC      0 non-null      int64  \n",
      " 4   DL      0 non-null      int64  \n",
      " 5   DS      0 non-null      int64  \n",
      " 6   DP      0 non-null      int64  \n",
      " 7   ASTV    0 non-null      int64  \n",
      " 8   MSTV    0 non-null      float64\n",
      " 9   ALTV    0 non-null      int64  \n",
      " 10  MLTV    0 non-null      float64\n",
      " 11  NSP     0 non-null      int64  \n",
      "dtypes: float64(2), int64(10)\n",
      "memory usage: 0.0 bytes\n"
     ]
    }
   ],
   "source": [
    "df3 = df.loc[df[\"NSP\"] == 3]\n",
    "df3.info()"
   ]
  },
  {
   "cell_type": "code",
   "execution_count": 11,
   "metadata": {},
   "outputs": [],
   "source": [
    "#df.to_csv('data_normal_path.csv', index=False)\n",
    "df.to_csv('data_real_world_np.csv', index=False)"
   ]
  }
 ],
 "metadata": {
  "kernelspec": {
   "display_name": "dev",
   "language": "python",
   "name": "python3"
  },
  "language_info": {
   "codemirror_mode": {
    "name": "ipython",
    "version": 3
   },
   "file_extension": ".py",
   "mimetype": "text/x-python",
   "name": "python",
   "nbconvert_exporter": "python",
   "pygments_lexer": "ipython3",
   "version": "3.10.11"
  }
 },
 "nbformat": 4,
 "nbformat_minor": 4
}
