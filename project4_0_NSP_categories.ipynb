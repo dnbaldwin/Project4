{
 "cells": [
  {
   "cell_type": "code",
   "execution_count": 1,
   "metadata": {},
   "outputs": [],
   "source": [
    "# Import the modules\n",
    "import numpy as np\n",
    "import pandas as pd\n",
    "from pathlib import Path\n",
    "from sklearn.metrics import confusion_matrix, classification_report, accuracy_score\n",
    "from sklearn.model_selection import train_test_split\n",
    "from sklearn.preprocessing import StandardScaler\n",
    "from sklearn.ensemble import RandomForestClassifier\n",
    "%matplotlib inline"
   ]
  },
  {
   "attachments": {},
   "cell_type": "markdown",
   "metadata": {},
   "source": [
    "---"
   ]
  },
  {
   "cell_type": "code",
   "execution_count": 2,
   "metadata": {},
   "outputs": [
    {
     "data": {
      "text/html": [
       "<div>\n",
       "<style scoped>\n",
       "    .dataframe tbody tr th:only-of-type {\n",
       "        vertical-align: middle;\n",
       "    }\n",
       "\n",
       "    .dataframe tbody tr th {\n",
       "        vertical-align: top;\n",
       "    }\n",
       "\n",
       "    .dataframe thead th {\n",
       "        text-align: right;\n",
       "    }\n",
       "</style>\n",
       "<table border=\"1\" class=\"dataframe\">\n",
       "  <thead>\n",
       "    <tr style=\"text-align: right;\">\n",
       "      <th></th>\n",
       "      <th>LB</th>\n",
       "      <th>AC</th>\n",
       "      <th>FM</th>\n",
       "      <th>UC</th>\n",
       "      <th>DL</th>\n",
       "      <th>DS</th>\n",
       "      <th>DP</th>\n",
       "      <th>ASTV</th>\n",
       "      <th>MSTV</th>\n",
       "      <th>ALTV</th>\n",
       "      <th>MLTV</th>\n",
       "      <th>NSP</th>\n",
       "    </tr>\n",
       "  </thead>\n",
       "  <tbody>\n",
       "    <tr>\n",
       "      <th>0</th>\n",
       "      <td>120</td>\n",
       "      <td>0</td>\n",
       "      <td>0</td>\n",
       "      <td>0</td>\n",
       "      <td>0</td>\n",
       "      <td>0</td>\n",
       "      <td>0</td>\n",
       "      <td>73</td>\n",
       "      <td>0.5</td>\n",
       "      <td>43</td>\n",
       "      <td>2.4</td>\n",
       "      <td>2</td>\n",
       "    </tr>\n",
       "    <tr>\n",
       "      <th>1</th>\n",
       "      <td>132</td>\n",
       "      <td>4</td>\n",
       "      <td>0</td>\n",
       "      <td>4</td>\n",
       "      <td>2</td>\n",
       "      <td>0</td>\n",
       "      <td>0</td>\n",
       "      <td>17</td>\n",
       "      <td>2.1</td>\n",
       "      <td>0</td>\n",
       "      <td>10.4</td>\n",
       "      <td>1</td>\n",
       "    </tr>\n",
       "    <tr>\n",
       "      <th>2</th>\n",
       "      <td>133</td>\n",
       "      <td>2</td>\n",
       "      <td>0</td>\n",
       "      <td>5</td>\n",
       "      <td>2</td>\n",
       "      <td>0</td>\n",
       "      <td>0</td>\n",
       "      <td>16</td>\n",
       "      <td>2.1</td>\n",
       "      <td>0</td>\n",
       "      <td>13.4</td>\n",
       "      <td>1</td>\n",
       "    </tr>\n",
       "    <tr>\n",
       "      <th>3</th>\n",
       "      <td>134</td>\n",
       "      <td>2</td>\n",
       "      <td>0</td>\n",
       "      <td>6</td>\n",
       "      <td>2</td>\n",
       "      <td>0</td>\n",
       "      <td>0</td>\n",
       "      <td>16</td>\n",
       "      <td>2.4</td>\n",
       "      <td>0</td>\n",
       "      <td>23.0</td>\n",
       "      <td>1</td>\n",
       "    </tr>\n",
       "    <tr>\n",
       "      <th>4</th>\n",
       "      <td>132</td>\n",
       "      <td>4</td>\n",
       "      <td>0</td>\n",
       "      <td>5</td>\n",
       "      <td>0</td>\n",
       "      <td>0</td>\n",
       "      <td>0</td>\n",
       "      <td>16</td>\n",
       "      <td>2.4</td>\n",
       "      <td>0</td>\n",
       "      <td>19.9</td>\n",
       "      <td>1</td>\n",
       "    </tr>\n",
       "  </tbody>\n",
       "</table>\n",
       "</div>"
      ],
      "text/plain": [
       "    LB  AC  FM  UC  DL  DS  DP  ASTV  MSTV  ALTV  MLTV  NSP\n",
       "0  120   0   0   0   0   0   0    73   0.5    43   2.4    2\n",
       "1  132   4   0   4   2   0   0    17   2.1     0  10.4    1\n",
       "2  133   2   0   5   2   0   0    16   2.1     0  13.4    1\n",
       "3  134   2   0   6   2   0   0    16   2.4     0  23.0    1\n",
       "4  132   4   0   5   0   0   0    16   2.4     0  19.9    1"
      ]
     },
     "execution_count": 2,
     "metadata": {},
     "output_type": "execute_result"
    }
   ],
   "source": [
    "# Read the CSV file from the Resources folder into a Pandas DataFrame\n",
    "#file_path = Path(\"CTG3.csv\")\n",
    "file_path = Path(\"data_preprocessed.csv\")\n",
    "df = pd.read_csv(file_path)\n",
    "\n",
    "# Review the DataFrame\n",
    "df.head()"
   ]
  },
  {
   "cell_type": "code",
   "execution_count": 3,
   "metadata": {},
   "outputs": [
    {
     "name": "stdout",
     "output_type": "stream",
     "text": [
      "<class 'pandas.core.frame.DataFrame'>\n",
      "Int64Index: 1654 entries, 1 to 2123\n",
      "Data columns (total 12 columns):\n",
      " #   Column  Non-Null Count  Dtype  \n",
      "---  ------  --------------  -----  \n",
      " 0   LB      1654 non-null   int64  \n",
      " 1   AC      1654 non-null   int64  \n",
      " 2   FM      1654 non-null   int64  \n",
      " 3   UC      1654 non-null   int64  \n",
      " 4   DL      1654 non-null   int64  \n",
      " 5   DS      1654 non-null   int64  \n",
      " 6   DP      1654 non-null   int64  \n",
      " 7   ASTV    1654 non-null   int64  \n",
      " 8   MSTV    1654 non-null   float64\n",
      " 9   ALTV    1654 non-null   int64  \n",
      " 10  MLTV    1654 non-null   float64\n",
      " 11  NSP     1654 non-null   int64  \n",
      "dtypes: float64(2), int64(10)\n",
      "memory usage: 168.0 KB\n"
     ]
    }
   ],
   "source": [
    "df1 = df.loc[df[\"NSP\"] == 1]\n",
    "df1.info()"
   ]
  },
  {
   "cell_type": "code",
   "execution_count": 4,
   "metadata": {},
   "outputs": [
    {
     "name": "stdout",
     "output_type": "stream",
     "text": [
      "<class 'pandas.core.frame.DataFrame'>\n",
      "Int64Index: 294 entries, 0 to 2122\n",
      "Data columns (total 12 columns):\n",
      " #   Column  Non-Null Count  Dtype  \n",
      "---  ------  --------------  -----  \n",
      " 0   LB      294 non-null    int64  \n",
      " 1   AC      294 non-null    int64  \n",
      " 2   FM      294 non-null    int64  \n",
      " 3   UC      294 non-null    int64  \n",
      " 4   DL      294 non-null    int64  \n",
      " 5   DS      294 non-null    int64  \n",
      " 6   DP      294 non-null    int64  \n",
      " 7   ASTV    294 non-null    int64  \n",
      " 8   MSTV    294 non-null    float64\n",
      " 9   ALTV    294 non-null    int64  \n",
      " 10  MLTV    294 non-null    float64\n",
      " 11  NSP     294 non-null    int64  \n",
      "dtypes: float64(2), int64(10)\n",
      "memory usage: 29.9 KB\n"
     ]
    }
   ],
   "source": [
    "df2 = df.loc[df[\"NSP\"] == 2]\n",
    "df2.info()"
   ]
  },
  {
   "cell_type": "code",
   "execution_count": 5,
   "metadata": {},
   "outputs": [
    {
     "name": "stdout",
     "output_type": "stream",
     "text": [
      "<class 'pandas.core.frame.DataFrame'>\n",
      "Int64Index: 176 entries, 5 to 2046\n",
      "Data columns (total 12 columns):\n",
      " #   Column  Non-Null Count  Dtype  \n",
      "---  ------  --------------  -----  \n",
      " 0   LB      176 non-null    int64  \n",
      " 1   AC      176 non-null    int64  \n",
      " 2   FM      176 non-null    int64  \n",
      " 3   UC      176 non-null    int64  \n",
      " 4   DL      176 non-null    int64  \n",
      " 5   DS      176 non-null    int64  \n",
      " 6   DP      176 non-null    int64  \n",
      " 7   ASTV    176 non-null    int64  \n",
      " 8   MSTV    176 non-null    float64\n",
      " 9   ALTV    176 non-null    int64  \n",
      " 10  MLTV    176 non-null    float64\n",
      " 11  NSP     176 non-null    int64  \n",
      "dtypes: float64(2), int64(10)\n",
      "memory usage: 17.9 KB\n"
     ]
    }
   ],
   "source": [
    "df3 = df.loc[df[\"NSP\"] == 3]\n",
    "df3.info()"
   ]
  }
 ],
 "metadata": {
  "kernelspec": {
   "display_name": "dev",
   "language": "python",
   "name": "python3"
  },
  "language_info": {
   "codemirror_mode": {
    "name": "ipython",
    "version": 3
   },
   "file_extension": ".py",
   "mimetype": "text/x-python",
   "name": "python",
   "nbconvert_exporter": "python",
   "pygments_lexer": "ipython3",
   "version": "3.10.11"
  }
 },
 "nbformat": 4,
 "nbformat_minor": 4
}
